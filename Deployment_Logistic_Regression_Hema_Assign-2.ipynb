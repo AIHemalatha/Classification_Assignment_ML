{
 "cells": [
  {
   "cell_type": "code",
   "execution_count": 1,
   "id": "99465f64",
   "metadata": {},
   "outputs": [],
   "source": [
    "import pickle"
   ]
  },
  {
   "cell_type": "code",
   "execution_count": 2,
   "id": "662fe5c1",
   "metadata": {},
   "outputs": [
    {
     "name": "stdout",
     "output_type": "stream",
     "text": [
      "Age:26\n",
      "bp:80\n",
      "al:1\n",
      "su:0\n",
      "bgr:99\n",
      "bu:22\n",
      "sc:2.5\n",
      "sod:135\n",
      "pot:4.4\n",
      "hrmo:15\n",
      "pcv:40\n",
      "wc:8600\n",
      "rc:5.4\n",
      "sg_b 0 or 1:1\n",
      "sg_c 0 or 1:0\n",
      "sg_d 0 or 1:0\n",
      "sg_e 0 or 1:0\n",
      "rbc_normal 0 or 1:0\n",
      "pc_normal 0 or 1:0\n",
      "pcc_present 0 or 1:1\n",
      "ba_present 0 or 1:1\n",
      "htn_yes 0 or 1:1\n",
      "dm_yes 0 or 1:0\n",
      "cad_yes 0 or 1:0\n",
      "appet_yes 0 or 1:0\n",
      "pe_yes 0 or 1:1\n",
      "ane_yes 0 or 1:1\n"
     ]
    }
   ],
   "source": [
    "load_model=pickle.load(open(\"Final_model_LRC.sav\",'rb'))\n",
    "age=float(input(\"Age:\"))\n",
    "bp=float(input(\"bp:\"))\n",
    "al=float(input(\"al:\"))\n",
    "su=float(input(\"su:\"))\n",
    "bgr=float(input(\"bgr:\"))\n",
    "bu=float(input(\"bu:\"))\n",
    "sc=float(input(\"sc:\"))\n",
    "sod=float(input(\"sod:\"))\n",
    "pot=float(input(\"pot:\"))\n",
    "hrmo=float(input(\"hrmo:\"))\n",
    "pcv=float(input(\"pcv:\"))\n",
    "wc=float(input(\"wc:\"))\n",
    "rc=float(input(\"rc:\"))\n",
    "sg_b=int(input(\"sg_b 0 or 1:\"))\n",
    "sg_c=int(input(\"sg_c 0 or 1:\"))\n",
    "sg_d=int(input(\"sg_d 0 or 1:\"))\n",
    "sg_e=int(input(\"sg_e 0 or 1:\"))\n",
    "rbc_normal=int(input(\"rbc_normal 0 or 1:\"))\n",
    "pc_normal=int(input(\"pc_normal 0 or 1:\"))\n",
    "pcc_present=int(input(\"pcc_present 0 or 1:\"))\n",
    "ba_present=int(input(\"ba_present 0 or 1:\"))\n",
    "htn_yes=int(input(\"htn_yes 0 or 1:\"))\n",
    "dm_yes=int(input(\"dm_yes 0 or 1:\"))\n",
    "cad_yes=int(input(\"cad_yes 0 or 1:\"))\n",
    "appet_yes=int(input(\"appet_yes 0 or 1:\"))\n",
    "pe_yes=int(input(\"pe_yes 0 or 1:\"))\n",
    "ane_yes=int(input(\"ane_yes 0 or 1:\"))"
   ]
  },
  {
   "cell_type": "code",
   "execution_count": 3,
   "id": "77be462a",
   "metadata": {},
   "outputs": [
    {
     "name": "stdout",
     "output_type": "stream",
     "text": [
      "Future_Prediction=[1]\n"
     ]
    }
   ],
   "source": [
    "Future_Prediction=load_model.predict([[age,bp,al,su,bgr,bu,sc,sod,pot,hrmo,pcv,wc,rc,sg_b,sg_c,sg_d,sg_e,rbc_normal,pc_normal,\n",
    "       pcc_present,ba_present,htn_yes,dm_yes,cad_yes,appet_yes,pe_yes,ane_yes]])\n",
    "print(\"Future_Prediction={}\".format(Future_Prediction))"
   ]
  },
  {
   "cell_type": "code",
   "execution_count": null,
   "id": "12864260",
   "metadata": {},
   "outputs": [],
   "source": []
  }
 ],
 "metadata": {
  "kernelspec": {
   "display_name": "Python 3 (ipykernel)",
   "language": "python",
   "name": "python3"
  },
  "language_info": {
   "codemirror_mode": {
    "name": "ipython",
    "version": 3
   },
   "file_extension": ".py",
   "mimetype": "text/x-python",
   "name": "python",
   "nbconvert_exporter": "python",
   "pygments_lexer": "ipython3",
   "version": "3.11.5"
  }
 },
 "nbformat": 4,
 "nbformat_minor": 5
}
